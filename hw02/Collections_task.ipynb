{
 "cells": [
  {
   "cell_type": "markdown",
   "metadata": {},
   "source": [
    "### Входные данные\n",
    "\n",
    "У вас имеется поток данных (генератор data_stream). Поля это случайные величины - так сделано для упрощения генерации данных. Есть три поля (названы по уровню сложности задания)\n",
    "\n",
    "### Задание\n",
    "##### Мотивация:\n",
    "У вас есть куча временных рядов, вы хотите научиться предсказывать следующее значение по 1000 предыдущим. 1000 признаков окна это слишком много, однако вы решили заменить их 5ю: средним, дисперсией, минимумом, медианой и максимумом. Однако, все эти признаки надо подсчитать, причём хочется уметь это делать быстро (в течение часа)\n",
    "##### Для каждого поля нужно сделать следующее:\n",
    "\n",
    "1. Пробежаться по данным окном размера 1000 (окно сдвигается на 1, то есть следующее окно пересекается с предыдущим по 999 элементам).\n",
    "\n",
    "2. Для каждого окна посчитайте среднее значение поля и его дисперсию. Делайте yield этих значений, получая генератор tuple. \n",
    "\n",
    "3. Для каждого окна найдине минимум, медиану и максимум в нём. Делайте yield этих значений, получая генератор tuple. \n",
    "\n",
    "Ответом, который нужно будет засабмитить в гугл форму, является среднее значение tuple по получившемуся потоку, округлённое до **2го знака**.\n",
    "\n",
    "### Замечания\n",
    "\n",
    "1. Обратите внимания как генерируются поля. Постарайтесь понять особенность каждого поля и как это можно использовать. Желательно, чтобы для каждого поля у вас было своё решение, максимально эффективно использующее знание об этом поле.\n",
    "2. Полезные библиотеки: itertools, numpy, collections + всё что найдёте в интернете и можно поставить через pip install\n",
    "3. **Медианой отсортированного массива arr считайте значение arr[len(arr) // 2]**\n",
    "\n",
    "\n",
    "\n",
    "Если измерять время работы функций временем работы функции example, то примерное время работы такое:\n",
    "Одновременно среднее, дисперсия - 1 минута\n",
    "Одновременно минимум, максимум и медиана:easy - 3 минуты\n",
    "medium - 6 минут\n",
    "nightmare - 6 минут\n"
   ]
  },
  {
   "cell_type": "code",
   "execution_count": 2,
   "metadata": {
    "ExecuteTime": {
     "end_time": "2019-10-16T20:44:03.763721Z",
     "start_time": "2019-10-16T20:44:03.750705Z"
    }
   },
   "outputs": [],
   "source": [
    "import numpy as np"
   ]
  },
  {
   "cell_type": "markdown",
   "metadata": {},
   "source": [
    "#### Генерация данных"
   ]
  },
  {
   "cell_type": "code",
   "execution_count": 3,
   "metadata": {
    "ExecuteTime": {
     "end_time": "2019-10-16T20:44:06.669943Z",
     "start_time": "2019-10-16T20:44:06.629106Z"
    }
   },
   "outputs": [],
   "source": [
    "from collections import namedtuple\n",
    "import random\n",
    "\n",
    "Record = namedtuple('Record', 'easy medium nightmare')"
   ]
  },
  {
   "cell_type": "code",
   "execution_count": 4,
   "metadata": {
    "ExecuteTime": {
     "end_time": "2019-10-16T20:44:08.230196Z",
     "start_time": "2019-10-16T20:44:08.194993Z"
    }
   },
   "outputs": [],
   "source": [
    "N, W = 10000000, 1000\n",
    "def data_stream(n):\n",
    "    random_generator = random.Random(42)\n",
    "    easy = 0\n",
    "    #for _ in range(10000000):\n",
    "    for _ in range(n):\n",
    "        easy += random_generator.randint(0, 2) \n",
    "        medium = random_generator.randint(0, 256 - 1)\n",
    "        nightmare = random_generator.randint(0, 1000000000 - 1)\n",
    "        \n",
    "        yield Record(\n",
    "            easy=easy,\n",
    "            medium=medium,\n",
    "            nightmare=nightmare\n",
    "        )"
   ]
  },
  {
   "cell_type": "code",
   "execution_count": 5,
   "metadata": {
    "ExecuteTime": {
     "end_time": "2019-10-16T20:44:09.751553Z",
     "start_time": "2019-10-16T20:44:09.723531Z"
    }
   },
   "outputs": [],
   "source": [
    "def easy_stream(n):\n",
    "    for record in data_stream(n):\n",
    "        yield record.easy\n",
    "        \n",
    "def medium_stream(n):\n",
    "    for record in data_stream(n):\n",
    "        yield record.medium\n",
    "        \n",
    "def nightmare_stream(n):\n",
    "    for record in data_stream(n):\n",
    "        yield record.nightmare"
   ]
  },
  {
   "cell_type": "markdown",
   "metadata": {},
   "source": [
    "#### Подсчёт среднего значения tuple по потоку"
   ]
  },
  {
   "cell_type": "code",
   "execution_count": 6,
   "metadata": {
    "ExecuteTime": {
     "end_time": "2019-10-16T20:44:13.983382Z",
     "start_time": "2019-10-16T20:44:13.944941Z"
    }
   },
   "outputs": [],
   "source": [
    "import numpy as np\n",
    "\n",
    "def get_tuple_stream_mean(stream, number_of_values):\n",
    "    result = np.zeros(number_of_values, dtype='object')\n",
    "    count = 0. \n",
    "    for streamed_tuple in stream:\n",
    "        result += streamed_tuple\n",
    "        count += 1\n",
    "    return ['{:0.2f}'.format(x) for x in result / count]"
   ]
  },
  {
   "cell_type": "code",
   "execution_count": 7,
   "metadata": {
    "ExecuteTime": {
     "end_time": "2019-10-16T20:44:19.619451Z",
     "start_time": "2019-10-16T20:44:16.619755Z"
    }
   },
   "outputs": [
    {
     "name": "stdout",
     "output_type": "stream",
     "text": [
      "['127.75', '137.75']\n",
      "CPU times: user 2.59 s, sys: 0 ns, total: 2.59 s\n",
      "Wall time: 2.96 s\n"
     ]
    }
   ],
   "source": [
    "%%time\n",
    "def example(stream):\n",
    "    for value in stream:\n",
    "        yield (value, value + 10)\n",
    "print(get_tuple_stream_mean(example(medium_stream(100*W)), 2))"
   ]
  },
  {
   "cell_type": "code",
   "execution_count": 8,
   "metadata": {
    "ExecuteTime": {
     "end_time": "2019-10-16T20:44:21.346543Z",
     "start_time": "2019-10-16T20:44:21.313774Z"
    }
   },
   "outputs": [],
   "source": [
    "from collections import deque\n",
    "DEBUG = True"
   ]
  },
  {
   "cell_type": "code",
   "execution_count": 9,
   "metadata": {
    "ExecuteTime": {
     "end_time": "2019-10-16T20:44:24.408032Z",
     "start_time": "2019-10-16T20:44:24.336317Z"
    }
   },
   "outputs": [
    {
     "data": {
      "text/plain": [
       "[57, 140, 71, 44, 16]"
      ]
     },
     "execution_count": 9,
     "metadata": {},
     "output_type": "execute_result"
    }
   ],
   "source": [
    "list(medium_stream(5))"
   ]
  },
  {
   "cell_type": "code",
   "execution_count": 10,
   "metadata": {
    "ExecuteTime": {
     "end_time": "2019-10-16T20:44:35.785022Z",
     "start_time": "2019-10-16T20:44:35.746939Z"
    }
   },
   "outputs": [],
   "source": [
    "def mean_var(w, stream):\n",
    "    q = deque()\n",
    "    valsum, sqsum = 0, 0\n",
    "    for val in stream:\n",
    "        valsum += val\n",
    "        sqsum += val*val\n",
    "        q.append(val)\n",
    "        if len(q) < w: continue\n",
    "        if len(q) > w:\n",
    "            oldval = q.popleft()\n",
    "            valsum -= oldval\n",
    "            sqsum -= oldval*oldval\n",
    "        #if DEBUG:\n",
    "        #    arr = np.array(q)\n",
    "        #    assert( np.isclose( arr.mean(), valsum/w ) )\n",
    "        #    assert( np.isclose( arr.var(), sqsum/w - valsum**2/w**2 ) )\n",
    "        yield (valsum/w, sqsum/w - valsum**2/w**2)\n",
    "            "
   ]
  },
  {
   "cell_type": "code",
   "execution_count": 11,
   "metadata": {
    "ExecuteTime": {
     "end_time": "2019-10-16T20:44:42.580471Z",
     "start_time": "2019-10-16T20:44:39.208747Z"
    }
   },
   "outputs": [
    {
     "name": "stdout",
     "output_type": "stream",
     "text": [
      "['127.74', '5475.85']\n",
      "CPU times: user 2.84 s, sys: 15.6 ms, total: 2.86 s\n",
      "Wall time: 3.34 s\n"
     ]
    }
   ],
   "source": [
    "%%time\n",
    "DEBUG = False\n",
    "print(get_tuple_stream_mean(mean_var(W, medium_stream(100*W)), 2))"
   ]
  },
  {
   "cell_type": "code",
   "execution_count": 11,
   "metadata": {
    "ExecuteTime": {
     "end_time": "2019-10-16T20:25:48.527552Z",
     "start_time": "2019-10-16T20:20:16.765063Z"
    },
    "scrolled": true
   },
   "outputs": [
    {
     "name": "stdout",
     "output_type": "stream",
     "text": [
      "['4999675.28', '83439.34']\n",
      "CPU times: user 5min 4s, sys: 2.7 s, total: 5min 6s\n",
      "Wall time: 5min 31s\n"
     ]
    }
   ],
   "source": [
    "%%time\n",
    "DEBUG = False\n",
    "print(get_tuple_stream_mean(mean_var(W, easy_stream(N)), 2))"
   ]
  },
  {
   "cell_type": "code",
   "execution_count": 12,
   "metadata": {
    "ExecuteTime": {
     "end_time": "2019-10-16T20:36:31.993186Z",
     "start_time": "2019-10-16T20:31:01.446882Z"
    }
   },
   "outputs": [
    {
     "name": "stdout",
     "output_type": "stream",
     "text": [
      "['127.48', '5455.17']\n",
      "CPU times: user 4min 52s, sys: 2.24 s, total: 4min 54s\n",
      "Wall time: 5min 12s\n"
     ]
    }
   ],
   "source": [
    "%%time\n",
    "DEBUG = False\n",
    "print(get_tuple_stream_mean(mean_var(W, medium_stream(N)), 2))"
   ]
  },
  {
   "cell_type": "code",
   "execution_count": 13,
   "metadata": {
    "ExecuteTime": {
     "end_time": "2019-10-16T20:36:31.993186Z",
     "start_time": "2019-10-16T20:31:01.446882Z"
    }
   },
   "outputs": [
    {
     "name": "stdout",
     "output_type": "stream",
     "text": [
      "['499880345.88', '83228908564027760.00']\n",
      "CPU times: user 5min 7s, sys: 2.82 s, total: 5min 10s\n",
      "Wall time: 5min 30s\n"
     ]
    }
   ],
   "source": [
    "%%time\n",
    "DEBUG = False\n",
    "print(get_tuple_stream_mean(mean_var(W, nightmare_stream(N)), 2))"
   ]
  },
  {
   "cell_type": "code",
   "execution_count": null,
   "metadata": {},
   "outputs": [],
   "source": []
  },
  {
   "cell_type": "code",
   "execution_count": 12,
   "metadata": {
    "ExecuteTime": {
     "end_time": "2019-10-16T20:45:11.033524Z",
     "start_time": "2019-10-16T20:45:10.998673Z"
    }
   },
   "outputs": [],
   "source": [
    "def min_max_median_easy(w, stream):\n",
    "    q = deque()\n",
    "    for val in stream:\n",
    "        q.append(val)\n",
    "        if len(q) < w: continue\n",
    "        if len(q) > w:\n",
    "            _ = q.popleft()\n",
    "        yield (q[0], q[-1], q[len(q) // 2])\n",
    "            "
   ]
  },
  {
   "cell_type": "code",
   "execution_count": 15,
   "metadata": {
    "ExecuteTime": {
     "end_time": "2019-10-16T20:52:58.187295Z",
     "start_time": "2019-10-16T20:47:30.504381Z"
    },
    "scrolled": true
   },
   "outputs": [
    {
     "name": "stdout",
     "output_type": "stream",
     "text": [
      "['4999175.79', '5000174.76', '4999675.78']\n",
      "CPU times: user 4min 41s, sys: 3.56 s, total: 4min 44s\n",
      "Wall time: 5min 27s\n"
     ]
    }
   ],
   "source": [
    "%%time\n",
    "DEBUG = False\n",
    "print(get_tuple_stream_mean(min_max_median_easy(W, easy_stream(N)), 3))"
   ]
  },
  {
   "cell_type": "code",
   "execution_count": 13,
   "metadata": {
    "ExecuteTime": {
     "end_time": "2019-10-16T20:45:16.297895Z",
     "start_time": "2019-10-16T20:45:16.242030Z"
    }
   },
   "outputs": [],
   "source": [
    "from sortedcontainers import SortedList"
   ]
  },
  {
   "cell_type": "code",
   "execution_count": 14,
   "metadata": {
    "ExecuteTime": {
     "end_time": "2019-10-16T20:45:19.751785Z",
     "start_time": "2019-10-16T20:45:19.712644Z"
    }
   },
   "outputs": [],
   "source": [
    "def min_max_median(w, stream):\n",
    "    q = deque()\n",
    "    sl = SortedList()\n",
    "    for val in stream:\n",
    "        q.append(val)\n",
    "        sl.add(val)\n",
    "        if len(q) < w: continue\n",
    "        if len(q) > w:\n",
    "            oldval = q.popleft()\n",
    "            sl.remove(oldval)\n",
    "        yield (sl[0], sl[-1], sl[len(sl) // 2])\n",
    "            "
   ]
  },
  {
   "cell_type": "code",
   "execution_count": 17,
   "metadata": {
    "ExecuteTime": {
     "end_time": "2019-10-16T21:07:41.839644Z",
     "start_time": "2019-10-16T21:00:28.623461Z"
    },
    "scrolled": true
   },
   "outputs": [
    {
     "name": "stdout",
     "output_type": "stream",
     "text": [
      "['4999175.79', '5000174.76', '4999675.78']\n",
      "CPU times: user 6min 54s, sys: 1.98 s, total: 6min 56s\n",
      "Wall time: 7min 13s\n"
     ]
    }
   ],
   "source": [
    "%%time\n",
    "DEBUG = False\n",
    "print(get_tuple_stream_mean(min_max_median(W, easy_stream(N)), 3))"
   ]
  },
  {
   "cell_type": "code",
   "execution_count": 15,
   "metadata": {
    "ExecuteTime": {
     "end_time": "2019-10-16T21:00:28.205880Z",
     "start_time": "2019-10-16T20:53:02.525879Z"
    },
    "scrolled": true
   },
   "outputs": [
    {
     "name": "stdout",
     "output_type": "stream",
     "text": [
      "['0.02', '254.98', '127.60']\n",
      "CPU times: user 6min 58s, sys: 2.32 s, total: 7min\n",
      "Wall time: 7min 23s\n"
     ]
    }
   ],
   "source": [
    "%%time\n",
    "DEBUG = False\n",
    "print(get_tuple_stream_mean(min_max_median(W, medium_stream(N)), 3))"
   ]
  },
  {
   "cell_type": "code",
   "execution_count": 16,
   "metadata": {
    "ExecuteTime": {
     "end_time": "2019-10-16T21:00:28.205880Z",
     "start_time": "2019-10-16T20:53:02.525879Z"
    },
    "scrolled": true
   },
   "outputs": [
    {
     "name": "stdout",
     "output_type": "stream",
     "text": [
      "['1017512.29', '999017359.97', '500438415.64']\n",
      "CPU times: user 7min, sys: 2.1 s, total: 7min 3s\n",
      "Wall time: 7min 25s\n"
     ]
    }
   ],
   "source": [
    "%%time\n",
    "DEBUG = False\n",
    "print(get_tuple_stream_mean(min_max_median(W, nightmare_stream(N)), 3))"
   ]
  },
  {
   "cell_type": "code",
   "execution_count": null,
   "metadata": {},
   "outputs": [],
   "source": []
  }
 ],
 "metadata": {
  "hide_input": false,
  "kernelspec": {
   "display_name": "dmia19Aut-ind",
   "language": "python",
   "name": "dmia19aut-ind"
  },
  "language_info": {
   "codemirror_mode": {
    "name": "ipython",
    "version": 3
   },
   "file_extension": ".py",
   "mimetype": "text/x-python",
   "name": "python",
   "nbconvert_exporter": "python",
   "pygments_lexer": "ipython3",
   "version": "3.6.8"
  },
  "toc": {
   "nav_menu": {},
   "number_sections": true,
   "sideBar": true,
   "skip_h1_title": false,
   "toc_cell": false,
   "toc_position": {},
   "toc_section_display": "block",
   "toc_window_display": false
  },
  "varInspector": {
   "cols": {
    "lenName": 16,
    "lenType": 16,
    "lenVar": 40
   },
   "kernels_config": {
    "python": {
     "delete_cmd_postfix": "",
     "delete_cmd_prefix": "del ",
     "library": "var_list.py",
     "varRefreshCmd": "print(var_dic_list())"
    },
    "r": {
     "delete_cmd_postfix": ") ",
     "delete_cmd_prefix": "rm(",
     "library": "var_list.r",
     "varRefreshCmd": "cat(var_dic_list()) "
    }
   },
   "types_to_exclude": [
    "module",
    "function",
    "builtin_function_or_method",
    "instance",
    "_Feature"
   ],
   "window_display": false
  }
 },
 "nbformat": 4,
 "nbformat_minor": 1
}
